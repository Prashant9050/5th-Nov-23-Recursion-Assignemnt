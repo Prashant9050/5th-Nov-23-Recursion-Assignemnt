{
 "cells": [
  {
   "cell_type": "code",
   "execution_count": 6,
   "id": "b0631e16-0aa9-466f-90b9-2dbb70fda7f4",
   "metadata": {},
   "outputs": [
    {
     "ename": "SyntaxError",
     "evalue": "invalid syntax (1153175914.py, line 3)",
     "output_type": "error",
     "traceback": [
      "\u001b[0;36m  Cell \u001b[0;32mIn[6], line 3\u001b[0;36m\u001b[0m\n\u001b[0;31m    public class TowerOfHanoi {\u001b[0m\n\u001b[0m           ^\u001b[0m\n\u001b[0;31mSyntaxError\u001b[0m\u001b[0;31m:\u001b[0m invalid syntax\n"
     ]
    }
   ],
   "source": [
    "#Q.1 Can you explain the logic and working of the Tower of Hanoi algorithm by writing a Java program?\n",
    "#How does the recursion work, and how are the movements of disks between rods accomplished?\n",
    "public class TowerOfHanoi {\n",
    "    public static void main(String[] args) {\n",
    "        int n = 3; // Number of disks\n",
    "        char source = 'A', auxiliary = 'B', destination = 'C';\n",
    "        moveDisks(n, source, destination, auxiliary);\n",
    "    }\n",
    "\n",
    "    public static void moveDisks(int n, char source, char destination, char auxiliary) {\n",
    "        if (n == 1) {\n",
    "            System.out.println(\"Move disk 1 from rod \" + source + \" to rod \" + destination);\n",
    "            return;\n",
    "        }\n",
    "        moveDisks(n - 1, source, auxiliary, destination);\n",
    "        System.out.println(\"Move disk \" + n + \" from rod \" + source + \" to rod \" + destination);\n",
    "        moveDisks(n - 1, auxiliary, destination, source);\n",
    "    }\n",
    "}\n"
   ]
  },
  {
   "cell_type": "code",
   "execution_count": 9,
   "id": "8f418873-f203-41fd-94d0-3a088aab1587",
   "metadata": {},
   "outputs": [
    {
     "name": "stdout",
     "output_type": "stream",
     "text": [
      "3\n"
     ]
    }
   ],
   "source": [
    "#Q.2 Given two strings word1 and word2, return the minimum number of operations required to convert word1 to word2.\n",
    "#Example 1:\n",
    "#Input: word1 = \"horse\", word2 = \"ros\"\n",
    "#Output: 3\n",
    "#Explanation:\n",
    "#horse -> rorse (replace 'h' with 'r')\n",
    "#rorse -> rose (remove 'r')\n",
    "#rose -> ros (remove 'e')\n",
    "def min_distance(word1: str, word2: str) -> int:\n",
    "    m, n = len(word1), len(word2)\n",
    "    \n",
    "    # Create a 2D array to store the minimum number of operations\n",
    "    dp = [[0] * (n + 1) for _ in range(m + 1)]\n",
    "    \n",
    "    # Initialize the first row and column\n",
    "    for i in range(m + 1):\n",
    "        dp[i][0] = i  # Number of operations to convert word1[:i] to an empty string\n",
    "    for j in range(n + 1):\n",
    "        dp[0][j] = j  # Number of operations to convert an empty string to word2[:j]\n",
    "    \n",
    "    # Fill in the rest of the array\n",
    "    for i in range(1, m + 1):\n",
    "        for j in range(1, n + 1):\n",
    "            if word1[i - 1] == word2[j - 1]:\n",
    "                # Characters match, no operation needed\n",
    "                dp[i][j] = dp[i - 1][j - 1]\n",
    "            else:\n",
    "                # Characters don't match, find the minimum of three operations: insert, delete, replace\n",
    "                dp[i][j] = 1 + min(dp[i - 1][j - 1], dp[i][j - 1], dp[i - 1][j])\n",
    "    \n",
    "    return dp[m][n]\n",
    "\n",
    "# Example usage\n",
    "word1 = \"horse\"\n",
    "word2 = \"ros\"\n",
    "print(min_distance(word1, word2))  # Output: 3"
   ]
  },
  {
   "cell_type": "code",
   "execution_count": 10,
   "id": "67ed5402-25e1-44ec-af4d-49aacfc90094",
   "metadata": {},
   "outputs": [
    {
     "name": "stdout",
     "output_type": "stream",
     "text": [
      "5\n"
     ]
    }
   ],
   "source": [
    "#Example 2:\n",
    "#Input: word1 = \"intention\", word2 = \"execution\"\n",
    "#Output: 5\n",
    "#Explanation:\n",
    "#intention -> inention (remove 't')\n",
    "#inention -> enention (replace 'i' with 'e')\n",
    "#enention -> exention (replace 'n' with 'x')\n",
    "#exention -> exection (replace 'n' with 'c')\n",
    "#exection -> execution (insert 'u')\n",
    "def min_distance(word1: str, word2: str) -> int:\n",
    "    m, n = len(word1), len(word2)\n",
    "    \n",
    "    # Create a 2D array to store the minimum number of operations\n",
    "    dp = [[0] * (n + 1) for _ in range(m + 1)]\n",
    "    \n",
    "    # Initialize the first row and column\n",
    "    for i in range(m + 1):\n",
    "        dp[i][0] = i  # Number of operations to convert word1[:i] to an empty string\n",
    "    for j in range(n + 1):\n",
    "        dp[0][j] = j  # Number of operations to convert an empty string to word2[:j]\n",
    "    \n",
    "    # Fill in the rest of the array\n",
    "    for i in range(1, m + 1):\n",
    "        for j in range(1, n + 1):\n",
    "            if word1[i - 1] == word2[j - 1]:\n",
    "                # Characters match, no operation needed\n",
    "                dp[i][j] = dp[i - 1][j - 1]\n",
    "            else:\n",
    "                # Characters don't match, find the minimum of three operations: insert, delete, replace\n",
    "                dp[i][j] = 1 + min(dp[i - 1][j - 1], dp[i][j - 1], dp[i - 1][j])\n",
    "    \n",
    "    return dp[m][n]\n",
    "\n",
    "# Example usage\n",
    "word1 = \"intention\"\n",
    "word2 = \"execution\"\n",
    "print(min_distance(word1, word2))  # Output: 5"
   ]
  },
  {
   "cell_type": "code",
   "execution_count": 11,
   "id": "3b9472cd-2fbf-4cfc-8b95-36d8ee76ae47",
   "metadata": {},
   "outputs": [
    {
     "name": "stdout",
     "output_type": "stream",
     "text": [
      "Max value of the array: 22\n"
     ]
    }
   ],
   "source": [
    "#Q. 3 Print the max value of the array [ 13, 1, -3, 22, 5].\n",
    "arr = [13, 1, -3, 22, 5]\n",
    "max_value = max(arr)\n",
    "print(\"Max value of the array:\", max_value)"
   ]
  },
  {
   "cell_type": "code",
   "execution_count": 12,
   "id": "a3ffb5f7-e7b8-4411-a51e-563dbc51dd41",
   "metadata": {},
   "outputs": [
    {
     "name": "stdout",
     "output_type": "stream",
     "text": [
      "Sum of the values of the array: 120\n"
     ]
    }
   ],
   "source": [
    "#Q.4 Find the sum of the values of the array [92, 23, 15, -20, 10].\n",
    "arr = [92, 23, 15, -20, 10]\n",
    "sum_of_values = sum(arr)\n",
    "print(\"Sum of the values of the array:\", sum_of_values)"
   ]
  },
  {
   "cell_type": "code",
   "execution_count": 14,
   "id": "bb6c92ed-4ee1-4e95-8146-30e736a5179e",
   "metadata": {},
   "outputs": [
    {
     "name": "stdout",
     "output_type": "stream",
     "text": [
      "Input1: 153\n",
      "Output1: Yes\n",
      "Input2: 134\n",
      "Output2: No\n"
     ]
    }
   ],
   "source": [
    "#Q.5 Given a number n. Print if it is an armstrong number or not.An armstrong number is a number if the sum of every digit in that number raised to the power of total digits in that number is equal to the number.\n",
    "#Example : 153 = 1^3 + 5^3 + 3^3 = 1 + 125 + 27 = 153 hence 153 is an armstrong number. (Easy)\n",
    "#Input1 : 153\n",
    "#Output1 : Yes\n",
    "#Input 2 : 134\n",
    "#Output2 : No\n",
    "def is_armstrong(number):\n",
    "    # Convert the number to a string to count the digits\n",
    "    num_str = str(number)\n",
    "    num_digits = len(num_str)\n",
    "    \n",
    "    # Calculate the sum of each digit raised to the power of the total number of digits\n",
    "    armstrong_sum = sum(int(digit) ** num_digits for digit in num_str)\n",
    "    \n",
    "    # Check if the sum is equal to the original number\n",
    "    if armstrong_sum == number:\n",
    "        return \"Yes\"\n",
    "    else:\n",
    "        return \"No\"\n",
    "\n",
    "# Example usage\n",
    "input1 = 153\n",
    "input2 = 134\n",
    "\n",
    "print(\"Input1:\", input1)\n",
    "print(\"Output1:\", is_armstrong(input1))  # Output1: Yes\n",
    "\n",
    "print(\"Input2:\", input2)\n",
    "print(\"Output2:\", is_armstrong(input2))  # Output2: No"
   ]
  },
  {
   "cell_type": "code",
   "execution_count": null,
   "id": "7d29a8c9-524c-4667-bfc9-d6d4574173e4",
   "metadata": {},
   "outputs": [],
   "source": []
  }
 ],
 "metadata": {
  "kernelspec": {
   "display_name": "Python 3 (ipykernel)",
   "language": "python",
   "name": "python3"
  },
  "language_info": {
   "codemirror_mode": {
    "name": "ipython",
    "version": 3
   },
   "file_extension": ".py",
   "mimetype": "text/x-python",
   "name": "python",
   "nbconvert_exporter": "python",
   "pygments_lexer": "ipython3",
   "version": "3.10.8"
  }
 },
 "nbformat": 4,
 "nbformat_minor": 5
}
